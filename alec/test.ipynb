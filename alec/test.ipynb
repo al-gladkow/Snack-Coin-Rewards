{
 "cells": [
  {
   "cell_type": "code",
   "execution_count": 2,
   "metadata": {},
   "outputs": [],
   "source": [
    "import sqlite3\n",
    "import pandas as pd"
   ]
  },
  {
   "cell_type": "code",
   "execution_count": 16,
   "metadata": {},
   "outputs": [],
   "source": [
    "con = sqlite3.connect('snack.db')\n",
    "cur = con.cursor()"
   ]
  },
  {
   "cell_type": "code",
   "execution_count": 17,
   "metadata": {},
   "outputs": [],
   "source": [
    "res = cur.execute(\n",
    "    '''\n",
    "    SELECT * FROM Food\n",
    "    '''\n",
    ").fetchall()"
   ]
  },
  {
   "cell_type": "code",
   "execution_count": 18,
   "metadata": {},
   "outputs": [
    {
     "name": "stdout",
     "output_type": "stream",
     "text": [
      "Hotdog\n",
      "Pizza\n",
      "Fries\n",
      "Milkshake\n",
      "Cake\n"
     ]
    }
   ],
   "source": [
    "for row in res:\n",
    "    id_, name_, about_, category_, picture_, unitprice_ = row\n",
    "    print(name_)"
   ]
  }
 ],
 "metadata": {
  "kernelspec": {
   "display_name": "Python 3.10.5 ('blockchain')",
   "language": "python",
   "name": "python3"
  },
  "language_info": {
   "codemirror_mode": {
    "name": "ipython",
    "version": 3
   },
   "file_extension": ".py",
   "mimetype": "text/x-python",
   "name": "python",
   "nbconvert_exporter": "python",
   "pygments_lexer": "ipython3",
   "version": "3.10.5"
  },
  "orig_nbformat": 4,
  "vscode": {
   "interpreter": {
    "hash": "99a381e16fa5190a2e20efd173027656285ece22f6a193524a50881d64cc73fa"
   }
  }
 },
 "nbformat": 4,
 "nbformat_minor": 2
}
